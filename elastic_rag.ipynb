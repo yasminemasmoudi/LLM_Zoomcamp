{
 "cells": [
  {
   "cell_type": "markdown",
   "id": "3720c17e-11f1-447b-95f7-424896304464",
   "metadata": {},
   "source": [
    "# Retrieval\n",
    "RAG consists of multiple components, and the first is R - \"retrieval\". For retrieval, we need a search system. In our example, we will use elasticsearch for searching."
   ]
  },
  {
   "cell_type": "markdown",
   "id": "7aea4a16-c388-4cf2-a000-015e5a9050b4",
   "metadata": {},
   "source": [
    "## Searching in the documents"
   ]
  },
  {
   "cell_type": "markdown",
   "id": "ca49a172-784a-44f5-87a5-72402497fad2",
   "metadata": {},
   "source": [
    "Downloading the docs:"
   ]
  },
  {
   "cell_type": "code",
   "execution_count": null,
   "id": "a2176f13-c987-48a6-bfa6-aed8aec74f8a",
   "metadata": {},
   "outputs": [],
   "source": [
    "!wget https://github.com/alexeygrigorev/llm-rag-workshop/raw/main/notebooks/documents.json"
   ]
  },
  {
   "cell_type": "code",
   "execution_count": null,
   "id": "5a3043c0-5b89-4940-92a4-e90bfae3477a",
   "metadata": {},
   "outputs": [],
   "source": [
    "!head documents.json"
   ]
  },
  {
   "cell_type": "markdown",
   "id": "2ab9ab83-68f5-4e85-831a-8f36fb5217f9",
   "metadata": {},
   "source": [
    "Loading the documents:"
   ]
  },
  {
   "cell_type": "code",
   "execution_count": null,
   "id": "3523acb6-5e52-45bf-a68b-33fed1413e43",
   "metadata": {},
   "outputs": [],
   "source": [
    "import json\n",
    "\n",
    "with open('./documents.json', 'rt') as f_in:\n",
    "    documents_file = json.load(f_in)\n",
    "\n",
    "documents = []\n",
    "\n",
    "for course in documents_file:\n",
    "    course_name = course['course']\n",
    "\n",
    "    for doc in course['documents']:\n",
    "        doc['course'] = course_name\n",
    "        documents.append(doc)"
   ]
  },
  {
   "cell_type": "code",
   "execution_count": null,
   "id": "4ba77007-7e66-4c32-89b3-6ec42a8990aa",
   "metadata": {},
   "outputs": [],
   "source": [
    "documents[2]"
   ]
  },
  {
   "cell_type": "code",
   "execution_count": null,
   "id": "83bdae17-3e45-46b1-bc9a-123ed4bc81f1",
   "metadata": {},
   "outputs": [],
   "source": [
    "len(documents)"
   ]
  },
  {
   "cell_type": "markdown",
   "id": "8d3e4154-3f35-47ee-8fdf-4e23c78cd36e",
   "metadata": {},
   "source": [
    "Now we'll index these documents with elastic search\n",
    "\n",
    "First initiate the connection and check that it's working:"
   ]
  },
  {
   "cell_type": "code",
   "execution_count": null,
   "id": "c458593d-2662-400e-b78d-75bb90d1a3b1",
   "metadata": {},
   "outputs": [],
   "source": [
    "from elasticsearch import Elasticsearch\n",
    "\n",
    "es = Elasticsearch(\"http://localhost:9200\")\n",
    "es.info()"
   ]
  },
  {
   "cell_type": "markdown",
   "id": "ef155787-cfcf-4c36-b491-14a337c2dcb6",
   "metadata": {},
   "source": [
    "Before indexing the documents, we need to create an index (an index in elasticsearch is like a table in a \"usual\" databases):"
   ]
  },
  {
   "cell_type": "code",
   "execution_count": null,
   "id": "ad6b3c6c-c2d8-4ab1-962c-f568be12d3a0",
   "metadata": {},
   "outputs": [],
   "source": [
    "index_settings = {\n",
    "    \"settings\": {\n",
    "        \"number_of_shards\": 1,\n",
    "        \"number_of_replicas\": 0\n",
    "    },\n",
    "    \"mappings\": {\n",
    "        \"properties\": {\n",
    "            \"text\": {\"type\": \"text\"},\n",
    "            \"section\": {\"type\": \"text\"},\n",
    "            \"question\": {\"type\": \"text\"},\n",
    "            \"course\": {\"type\": \"keyword\"} \n",
    "        }\n",
    "    }\n",
    "}\n",
    "\n",
    "index_name = \"course-questions\"\n",
    "response = es.indices.create(index=index_name, body=index_settings)\n",
    "\n",
    "response"
   ]
  },
  {
   "cell_type": "markdown",
   "id": "c10f39d3-8fcc-47d5-9c8d-bf282931dcb8",
   "metadata": {},
   "source": [
    "Indexing all the documents:"
   ]
  },
  {
   "cell_type": "code",
   "execution_count": null,
   "id": "4a844120-2346-4f48-941c-1108449aecae",
   "metadata": {},
   "outputs": [],
   "source": [
    "from tqdm.auto import tqdm\n",
    "\n",
    "for doc in tqdm(documents):\n",
    "    es.index(index=index_name, document=doc)"
   ]
  },
  {
   "cell_type": "markdown",
   "id": "fbadff15-1825-4dec-bffc-6b7221e2640a",
   "metadata": {},
   "source": [
    "## Retrieving the docs"
   ]
  },
  {
   "cell_type": "code",
   "execution_count": null,
   "id": "066a91ce-e7cd-4032-96fd-8d551196ad43",
   "metadata": {},
   "outputs": [],
   "source": [
    "user_question = \"How do I join the course after it has started?\"\n",
    "\n",
    "search_query = {\n",
    "    \"size\": 5,\n",
    "    \"query\": {\n",
    "        \"bool\": {\n",
    "            \"must\": {\n",
    "                \"multi_match\": {\n",
    "                    \"query\": user_question,\n",
    "                    \"fields\": [\"question^3\", \"text\", \"section\"],\n",
    "                    \"type\": \"best_fields\"\n",
    "                }\n",
    "            },\n",
    "            \"filter\": {\n",
    "                \"term\": {\n",
    "                    \"course\": \"data-engineering-zoomcamp\"\n",
    "                }\n",
    "            }\n",
    "        }\n",
    "    }\n",
    "}"
   ]
  },
  {
   "cell_type": "markdown",
   "id": "a243668b-870c-459c-8192-e7ed686b7364",
   "metadata": {},
   "source": [
    "This query:\n",
    "\n",
    "* Retrieves top 5 matching documents.\n",
    "* Searches in the \"question\", \"text\", \"section\" fields, prioritizing \"question\" using multi_match query with type best_fields (see here for more information)\n",
    "* Matches user query \"How do I join the course after it has started?\".\n",
    "* Shows results only for the \"data-engineering-zoomcamp\" course.\n",
    "  \n",
    "Let's see the output:"
   ]
  },
  {
   "cell_type": "code",
   "execution_count": null,
   "id": "cb4ae568-ea7b-4c06-af88-b74fe0f3cbe1",
   "metadata": {},
   "outputs": [],
   "source": [
    "response = es.search(index=index_name, body=search_query)\n",
    "response"
   ]
  },
  {
   "cell_type": "code",
   "execution_count": null,
   "id": "c13bf75b-91b6-4f2f-9840-be51aef01056",
   "metadata": {},
   "outputs": [],
   "source": [
    "for hit in response['hits']['hits']:\n",
    "    doc = hit['_source']\n",
    "    print(f\"Section: {doc['section']}\")\n",
    "    print(f\"Question: {doc['question']}\")\n",
    "    print(f\"Answer: {doc['text'][:60]}...\\n\")"
   ]
  },
  {
   "cell_type": "markdown",
   "id": "6cf7744b-5977-4dd3-9d63-b60a9f1eff7c",
   "metadata": {},
   "source": [
    "## Cleaning it"
   ]
  },
  {
   "cell_type": "code",
   "execution_count": null,
   "id": "3e58fdbd-320d-4ee6-9d23-2cfd1145839f",
   "metadata": {},
   "outputs": [],
   "source": [
    "def retrieve_documents(query, index_name=\"course-questions\", max_results=5):\n",
    "    es = Elasticsearch(\"http://localhost:9200\")\n",
    "    \n",
    "    search_query = {\n",
    "        \"size\": max_results,\n",
    "        \"query\": {\n",
    "            \"bool\": {\n",
    "                \"must\": {\n",
    "                    \"multi_match\": {\n",
    "                        \"query\": query,\n",
    "                        \"fields\": [\"question^3\", \"text\", \"section\"],\n",
    "                        \"type\": \"best_fields\"\n",
    "                    }\n",
    "                },\n",
    "                \"filter\": {\n",
    "                    \"term\": {\n",
    "                        \"course\": \"data-engineering-zoomcamp\"\n",
    "                    }\n",
    "                }\n",
    "            }\n",
    "        }\n",
    "    }\n",
    "    \n",
    "    response = es.search(index=index_name, body=search_query)\n",
    "    documents = [hit['_source'] for hit in response['hits']['hits']]\n",
    "    return documents"
   ]
  },
  {
   "cell_type": "code",
   "execution_count": null,
   "id": "1778fdb8-2f2f-4e1c-92ea-19dda34e6b9b",
   "metadata": {},
   "outputs": [],
   "source": [
    "user_question = \"How do I join the course after it has started?\"\n",
    "\n",
    "response = retrieve_documents(user_question)\n",
    "\n",
    "for doc in response:\n",
    "    print(f\"Section: {doc['section']}\")\n",
    "    print(f\"Question: {doc['question']}\")\n",
    "    print(f\"Answer: {doc['text'][:60]}...\\n\")"
   ]
  },
  {
   "cell_type": "markdown",
   "id": "0a5c6b96-2b5b-41a0-816a-06d7d1e02111",
   "metadata": {},
   "source": [
    "# Generation - Answering questions\n",
    "\n",
    "Now let's do the \"G\" part - generation based on the \"R\" output"
   ]
  },
  {
   "cell_type": "markdown",
   "id": "5834ec0f-a661-4980-b299-305354cd1af9",
   "metadata": {},
   "source": [
    "## OpenAI"
   ]
  },
  {
   "cell_type": "code",
   "execution_count": null,
   "id": "d6112e99-45d6-4a88-bb71-ceecbd6e3eb8",
   "metadata": {},
   "outputs": [],
   "source": [
    "from openai import OpenAI\n",
    "\n",
    "client = OpenAI()\n",
    "\n",
    "response = client.chat.completions.create(\n",
    "    model=\"gpt-3.5-turbo\",\n",
    "    messages=[{\"role\": \"user\", \"content\": \"The course already started. Can I still join?\"}]\n",
    ")\n",
    "\n",
    "print(response.choices[0].message.content)"
   ]
  },
  {
   "cell_type": "markdown",
   "id": "87165d84-25b1-4b87-b83d-02347b19c698",
   "metadata": {},
   "source": [
    "## Building a Prompt\n",
    "\n",
    "First, we put all the documents together in one string:"
   ]
  },
  {
   "cell_type": "code",
   "execution_count": null,
   "id": "7680f0a9-c11d-47f7-a9e5-04504cdc958b",
   "metadata": {},
   "outputs": [],
   "source": [
    "context_template = \"\"\"\n",
    "Section: {section}\n",
    "Question: {question}\n",
    "Answer: {text}\n",
    "\"\"\".strip()\n",
    "\n",
    "context_docs = retrieve_documents(user_question)\n",
    "\n",
    "context_result = \"\"\n",
    "\n",
    "for doc in context_docs:\n",
    "    doc_str = context_template.format(**doc)\n",
    "    context_result += (\"\\n\\n\" + doc_str)\n",
    "\n",
    "context = context_result.strip()\n",
    "print(context)"
   ]
  },
  {
   "cell_type": "markdown",
   "id": "068754ca-6165-4fa0-b6da-1cde3c15e73e",
   "metadata": {},
   "source": [
    "Now build the actual prompt:"
   ]
  },
  {
   "cell_type": "code",
   "execution_count": null,
   "id": "66588d86-d681-45cc-930d-ea79a8bf6d08",
   "metadata": {},
   "outputs": [],
   "source": [
    "prompt = f\"\"\"\n",
    "You're a course teaching assistant. Answer the user QUESTION based on CONTEXT - the documents retrieved from our FAQ database. \n",
    "Only use the facts from the CONTEXT. If the CONTEXT doesn't contan the answer, return \"NONE\"\n",
    "\n",
    "QUESTION: {user_question}\n",
    "\n",
    "CONTEXT:\n",
    "\n",
    "{context}\n",
    "\"\"\".strip()"
   ]
  },
  {
   "cell_type": "markdown",
   "id": "8970b199-e90b-480b-b5a5-2fb1f108c513",
   "metadata": {},
   "source": [
    "Now we can put it to OpenAI API:"
   ]
  },
  {
   "cell_type": "code",
   "execution_count": null,
   "id": "e49561b5-92fa-44e5-b921-089b4590971c",
   "metadata": {},
   "outputs": [],
   "source": [
    "response = client.chat.completions.create(\n",
    "    model=\"gpt-4o\",\n",
    "    messages=[{\"role\": \"user\", \"content\": prompt}]\n",
    ")\n",
    "answer = response.choices[0].message.content\n",
    "answer"
   ]
  },
  {
   "cell_type": "markdown",
   "id": "39ee4b3b-4fb4-42b1-a82c-2e6987f9df29",
   "metadata": {},
   "source": [
    "## Cleaning"
   ]
  },
  {
   "cell_type": "code",
   "execution_count": null,
   "id": "aab69d53-01ec-497a-9aea-47326c0da9ba",
   "metadata": {},
   "outputs": [],
   "source": [
    "context_template = \"\"\"\n",
    "Section: {section}\n",
    "Question: {question}\n",
    "Answer: {text}\n",
    "\"\"\".strip()\n",
    "\n",
    "prompt_template = \"\"\"\n",
    "You're a course teaching assistant.\n",
    "Answer the user QUESTION based on CONTEXT - the documents retrieved from our FAQ database.\n",
    "Don't use other information outside of the provided CONTEXT.  \n",
    "\n",
    "QUESTION: {user_question}\n",
    "\n",
    "CONTEXT:\n",
    "\n",
    "{context}\n",
    "\"\"\".strip()\n",
    "\n",
    "\n",
    "def build_context(documents):\n",
    "    context_result = \"\"\n",
    "    \n",
    "    for doc in documents:\n",
    "        doc_str = context_template.format(**doc)\n",
    "        context_result += (\"\\n\\n\" + doc_str)\n",
    "    \n",
    "    return context_result.strip()\n",
    "\n",
    "\n",
    "def build_prompt(user_question, documents):\n",
    "    context = build_context(documents)\n",
    "    prompt = prompt_template.format(\n",
    "        user_question=user_question,\n",
    "        context=context\n",
    "    )\n",
    "    return prompt\n",
    "\n",
    "def ask_openai(prompt, model=\"gpt-4o\"):\n",
    "    response = client.chat.completions.create(\n",
    "        model=model,\n",
    "        messages=[{\"role\": \"user\", \"content\": prompt}]\n",
    "    )\n",
    "    answer = response.choices[0].message.content\n",
    "    return answer\n",
    "\n",
    "def qa_bot(user_question):\n",
    "    context_docs = retrieve_documents(user_question)\n",
    "    prompt = build_prompt(user_question, context_docs)\n",
    "    answer = ask_openai(prompt)\n",
    "    return answer"
   ]
  },
  {
   "cell_type": "markdown",
   "id": "369c5726-5e7e-412a-a396-f137ba6ef5ab",
   "metadata": {},
   "source": [
    "Now we can ask it different questions"
   ]
  },
  {
   "cell_type": "code",
   "execution_count": null,
   "id": "78107a19-065a-4f01-aee8-b0e66e4f29fd",
   "metadata": {},
   "outputs": [],
   "source": [
    "qa_bot(\"I'm getting invalid reference format: repository name must be lowercase\")"
   ]
  },
  {
   "cell_type": "code",
   "execution_count": null,
   "id": "80162c45-56bd-4dce-a862-b53bb3d2ed67",
   "metadata": {},
   "outputs": [],
   "source": [
    "qa_bot(\"I can't connect to postgres port 5432, my password doesn't work\")"
   ]
  },
  {
   "cell_type": "code",
   "execution_count": null,
   "id": "6507b934-7d65-4e1b-950e-4eceaaf14a6f",
   "metadata": {},
   "outputs": [],
   "source": [
    "qa_bot(\"how can I run kafka?\")"
   ]
  },
  {
   "cell_type": "code",
   "execution_count": null,
   "id": "fcc7afa6-22b2-4b1c-8968-ad064cca2362",
   "metadata": {},
   "outputs": [],
   "source": []
  }
 ],
 "metadata": {
  "kernelspec": {
   "display_name": "Python 3 (ipykernel)",
   "language": "python",
   "name": "python3"
  },
  "language_info": {
   "codemirror_mode": {
    "name": "ipython",
    "version": 3
   },
   "file_extension": ".py",
   "mimetype": "text/x-python",
   "name": "python",
   "nbconvert_exporter": "python",
   "pygments_lexer": "ipython3",
   "version": "3.12.1"
  }
 },
 "nbformat": 4,
 "nbformat_minor": 5
}
